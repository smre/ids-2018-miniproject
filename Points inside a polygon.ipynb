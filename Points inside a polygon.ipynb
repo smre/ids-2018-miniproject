{
 "cells": [
  {
   "cell_type": "markdown",
   "metadata": {},
   "source": [
    "## Points inside a polygon"
   ]
  },
  {
   "cell_type": "code",
   "execution_count": 7,
   "metadata": {},
   "outputs": [],
   "source": [
    "import numpy as np\n",
    "import json\n",
    "import geog\n",
    "import shapely.geometry\n",
    "from shapely.geometry import Point, shape"
   ]
  },
  {
   "cell_type": "code",
   "execution_count": 8,
   "metadata": {},
   "outputs": [],
   "source": [
    "# Circle polygon function\n",
    "# x, longitude\n",
    "# y, latitude\n",
    "# r, radius, in meters\n",
    "def createCircle(x, y, r):\n",
    "    p = shapely.geometry.Point([x, y])\n",
    "    n_points = 64\n",
    "    angles = np.linspace(0, 360, n_points)\n",
    "    polygon = geog.propagate(p, angles, r)\n",
    "    return shape(shapely.geometry.mapping(shapely.geometry.Polygon(polygon)))"
   ]
  },
  {
   "cell_type": "code",
   "execution_count": 9,
   "metadata": {},
   "outputs": [
    {
     "name": "stdout",
     "output_type": "stream",
     "text": [
      "True\n",
      "False\n"
     ]
    }
   ],
   "source": [
    "# Create polygon\n",
    "poly = createCircle(24.9568641,60.1868438,30)\n",
    "\n",
    "# Check if a point is inside the polygon\n",
    "point1 = Point(24.956806898117065, 60.186657072473324)\n",
    "# Should be true\n",
    "print(poly.contains(point1))\n",
    "\n",
    "point2 = Point(24.95870590209961, 60.18527550629198)\n",
    "# Should be false\n",
    "print(poly.contains(point2))"
   ]
  },
  {
   "cell_type": "code",
   "execution_count": null,
   "metadata": {},
   "outputs": [],
   "source": []
  }
 ],
 "metadata": {
  "kernelspec": {
   "display_name": "Python 3",
   "language": "python",
   "name": "python3"
  },
  "language_info": {
   "codemirror_mode": {
    "name": "ipython",
    "version": 3
   },
   "file_extension": ".py",
   "mimetype": "text/x-python",
   "name": "python",
   "nbconvert_exporter": "python",
   "pygments_lexer": "ipython3",
   "version": "3.7.0"
  }
 },
 "nbformat": 4,
 "nbformat_minor": 2
}
