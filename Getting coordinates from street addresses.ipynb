{
 "cells": [
  {
   "cell_type": "markdown",
   "metadata": {},
   "source": [
    "### Downloading Helsinki building data"
   ]
  },
  {
   "cell_type": "code",
   "execution_count": 8,
   "metadata": {},
   "outputs": [
    {
     "ename": "ModuleNotFoundError",
     "evalue": "No module named 'osmium'",
     "output_type": "error",
     "traceback": [
      "\u001b[0;31m---------------------------------------------------------------------------\u001b[0m",
      "\u001b[0;31mModuleNotFoundError\u001b[0m                       Traceback (most recent call last)",
      "\u001b[0;32m<ipython-input-8-9553dc2d1b0a>\u001b[0m in \u001b[0;36m<module>\u001b[0;34m()\u001b[0m\n\u001b[0;32m----> 1\u001b[0;31m \u001b[0;32mimport\u001b[0m \u001b[0mosmium\u001b[0m \u001b[0;32mas\u001b[0m \u001b[0mosm\u001b[0m\u001b[0;34m\u001b[0m\u001b[0m\n\u001b[0m\u001b[1;32m      2\u001b[0m \u001b[0;32mimport\u001b[0m \u001b[0mpandas\u001b[0m \u001b[0;32mas\u001b[0m \u001b[0mpd\u001b[0m\u001b[0;34m\u001b[0m\u001b[0m\n\u001b[1;32m      3\u001b[0m \u001b[0;34m\u001b[0m\u001b[0m\n\u001b[1;32m      4\u001b[0m \u001b[0;32mclass\u001b[0m \u001b[0mOSMHandler\u001b[0m\u001b[0;34m(\u001b[0m\u001b[0mosm\u001b[0m\u001b[0;34m.\u001b[0m\u001b[0mSimpleHandler\u001b[0m\u001b[0;34m)\u001b[0m\u001b[0;34m:\u001b[0m\u001b[0;34m\u001b[0m\u001b[0m\n\u001b[1;32m      5\u001b[0m     \u001b[0;32mdef\u001b[0m \u001b[0m__init__\u001b[0m\u001b[0;34m(\u001b[0m\u001b[0mself\u001b[0m\u001b[0;34m)\u001b[0m\u001b[0;34m:\u001b[0m\u001b[0;34m\u001b[0m\u001b[0m\n",
      "\u001b[0;31mModuleNotFoundError\u001b[0m: No module named 'osmium'"
     ]
    }
   ],
   "source": [
    "import osmium as osm\n",
    "import pandas as pd\n",
    "\n",
    "class OSMHandler(osm.SimpleHandler):\n",
    "    def __init__(self):\n",
    "        osm.SimpleHandler.__init__(self)\n",
    "        self.osm_data = []\n",
    "\n",
    "    def tag_inventory(self, elem, elem_type):\n",
    "        for tag in elem.tags:\n",
    "            self.osm_data.append([elem_type, \n",
    "                                   elem.id, \n",
    "                                   elem.version,\n",
    "                                   elem.visible,\n",
    "                                   pd.Timestamp(elem.timestamp),\n",
    "                                   elem.uid,\n",
    "                                   elem.user,\n",
    "                                   elem.changeset,\n",
    "                                   len(elem.tags),\n",
    "                                   tag.k, \n",
    "                                   tag.v])\n",
    "\n",
    "    def node(self, n):\n",
    "        self.tag_inventory(n, \"node\")\n",
    "\n",
    "    def way(self, w):\n",
    "        self.tag_inventory(w, \"way\")\n",
    "\n",
    "    def relation(self, r):\n",
    "        self.tag_inventory(r, \"relation\")\n",
    "\n",
    "\n",
    "osmhandler = OSMHandler()\n",
    "# scan the input file and fills the handler list accordingly\n",
    "osmhandler.apply_file(\"muenchen.osm\")\n",
    "\n",
    "# transform the list into a pandas DataFrame\n",
    "data_colnames = ['type', 'id', 'version', 'visible', 'ts', 'uid',\n",
    "                 'user', 'chgset', 'ntags', 'tagkey', 'tagvalue']\n",
    "df_osm = pd.DataFrame(osmhandler.osm_data, columns=data_colnames)\n",
    "df_osm = tag_genome.sort_values(by=['type', 'id', 'ts'])"
   ]
  },
  {
   "cell_type": "markdown",
   "metadata": {},
   "source": [
    "### Importing building data into a pandas DataFrame"
   ]
  },
  {
   "cell_type": "code",
   "execution_count": 3,
   "metadata": {},
   "outputs": [],
   "source": [
    "import pandas as pd\n",
    "\n",
    "df = pd.DataFrame(buildings)"
   ]
  },
  {
   "cell_type": "code",
   "execution_count": 18,
   "metadata": {},
   "outputs": [
    {
     "name": "stdout",
     "output_type": "stream",
     "text": [
      "          3dr:height1 3dr:type FIXME FIXME:levels FIXMEoperator  \\\n",
      "123523931         NaN      NaN   NaN          NaN           NaN   \n",
      "123528217         NaN      NaN   NaN          NaN           NaN   \n",
      "123528221         NaN      NaN   NaN          NaN           NaN   \n",
      "123528229         NaN      NaN   NaN          NaN           NaN   \n",
      "\n",
      "          abandoned:amenity access addr:city addr:country addr:flats  \\\n",
      "123523931               NaN    NaN  Helsinki          NaN        NaN   \n",
      "123528217               NaN    NaN  Helsinki           FI        NaN   \n",
      "123528221               NaN    NaN  Helsinki           FI        NaN   \n",
      "123528229               NaN    NaN  Helsinki           FI        NaN   \n",
      "\n",
      "                  ...         wheelchair wheelchair:description wholesale  \\\n",
      "123523931         ...                NaN                    NaN       NaN   \n",
      "123528217         ...                NaN                    NaN       NaN   \n",
      "123528221         ...                NaN                    NaN       NaN   \n",
      "123528229         ...                NaN                    NaN       NaN   \n",
      "\n",
      "          wifi wikidata wikipedia wikipedia:en year year_on  \\\n",
      "123523931  NaN      NaN       NaN          NaN  NaN     NaN   \n",
      "123528217  NaN      NaN       NaN          NaN  NaN     NaN   \n",
      "123528221  NaN      NaN       NaN          NaN  NaN     NaN   \n",
      "123528229  NaN      NaN       NaN          NaN  NaN     NaN   \n",
      "\n",
      "          year_on:approximate  \n",
      "123523931                 NaN  \n",
      "123528217                 NaN  \n",
      "123528221                 NaN  \n",
      "123528229                 NaN  \n",
      "\n",
      "[4 rows x 500 columns]\n"
     ]
    }
   ],
   "source": [
    "print(df[df['addr:street'] == 'Eerikinkatu'])"
   ]
  },
  {
   "cell_type": "code",
   "execution_count": null,
   "metadata": {},
   "outputs": [],
   "source": []
  }
 ],
 "metadata": {
  "kernelspec": {
   "display_name": "Python 3",
   "language": "python",
   "name": "python3"
  }
 },
 "nbformat": 4,
 "nbformat_minor": 2
}
